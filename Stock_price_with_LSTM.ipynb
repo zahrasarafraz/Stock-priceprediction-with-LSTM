{
  "nbformat": 4,
  "nbformat_minor": 0,
  "metadata": {
    "colab": {
      "name": "Stock price_with  LSTM",
      "provenance": [],
      "collapsed_sections": []
    },
    "kernelspec": {
      "name": "python3",
      "display_name": "Python 3"
    },
    "language_info": {
      "name": "python"
    }
  },
  "cells": [
    {
      "cell_type": "code",
      "metadata": {
        "id": "OaZLLgls8hoe"
      },
      "source": [
        "# description: this code uses an ANN called LSTM,to predict the closing stock price of pple Inc. ,using the past 60 day stock proce \n",
        "link:   https://www.youtube.com/watch?v=QIUxPv5PJOY&t=745s\n"
      ],
      "execution_count": 1,
      "outputs": []
    },
    {
      "cell_type": "code",
      "metadata": {
        "id": "X8PEdltobjvi"
      },
      "source": [
        "# Import library\n",
        "\n",
        "import math\n",
        "import pandas_datareader as web\n",
        "import numpy as np \n",
        "import pandas as pd \n",
        "from sklearn.preprocessing import  MinMaxScaler\n",
        "from keras.models import  Sequential\n",
        "from keras.layers import Dense,LSTM\n",
        "import matplotlib.pyplot as plt\n",
        "plt.style.use(\"fivethirtyeight\")"
      ],
      "execution_count": 2,
      "outputs": []
    },
    {
      "cell_type": "code",
      "metadata": {
        "colab": {
          "base_uri": "https://localhost:8080/",
          "height": 455
        },
        "id": "9gs3zN8bdJ2k",
        "outputId": "4dbaa59d-88d5-48e4-9e7d-d6bebe3b22eb"
      },
      "source": [
        "df=web.DataReader('AAPL', data_source='yahoo',start='2012-01-01',end='2021-06-05')\n",
        "df"
      ],
      "execution_count": 3,
      "outputs": [
        {
          "output_type": "execute_result",
          "data": {
            "text/html": [
              "<div>\n",
              "<style scoped>\n",
              "    .dataframe tbody tr th:only-of-type {\n",
              "        vertical-align: middle;\n",
              "    }\n",
              "\n",
              "    .dataframe tbody tr th {\n",
              "        vertical-align: top;\n",
              "    }\n",
              "\n",
              "    .dataframe thead th {\n",
              "        text-align: right;\n",
              "    }\n",
              "</style>\n",
              "<table border=\"1\" class=\"dataframe\">\n",
              "  <thead>\n",
              "    <tr style=\"text-align: right;\">\n",
              "      <th></th>\n",
              "      <th>High</th>\n",
              "      <th>Low</th>\n",
              "      <th>Open</th>\n",
              "      <th>Close</th>\n",
              "      <th>Volume</th>\n",
              "      <th>Adj Close</th>\n",
              "    </tr>\n",
              "    <tr>\n",
              "      <th>Date</th>\n",
              "      <th></th>\n",
              "      <th></th>\n",
              "      <th></th>\n",
              "      <th></th>\n",
              "      <th></th>\n",
              "      <th></th>\n",
              "    </tr>\n",
              "  </thead>\n",
              "  <tbody>\n",
              "    <tr>\n",
              "      <th>2012-01-03</th>\n",
              "      <td>14.732143</td>\n",
              "      <td>14.607143</td>\n",
              "      <td>14.621429</td>\n",
              "      <td>14.686786</td>\n",
              "      <td>302220800.0</td>\n",
              "      <td>12.629209</td>\n",
              "    </tr>\n",
              "    <tr>\n",
              "      <th>2012-01-04</th>\n",
              "      <td>14.810000</td>\n",
              "      <td>14.617143</td>\n",
              "      <td>14.642857</td>\n",
              "      <td>14.765714</td>\n",
              "      <td>260022000.0</td>\n",
              "      <td>12.697079</td>\n",
              "    </tr>\n",
              "    <tr>\n",
              "      <th>2012-01-05</th>\n",
              "      <td>14.948214</td>\n",
              "      <td>14.738214</td>\n",
              "      <td>14.819643</td>\n",
              "      <td>14.929643</td>\n",
              "      <td>271269600.0</td>\n",
              "      <td>12.838044</td>\n",
              "    </tr>\n",
              "    <tr>\n",
              "      <th>2012-01-06</th>\n",
              "      <td>15.098214</td>\n",
              "      <td>14.972143</td>\n",
              "      <td>14.991786</td>\n",
              "      <td>15.085714</td>\n",
              "      <td>318292800.0</td>\n",
              "      <td>12.972249</td>\n",
              "    </tr>\n",
              "    <tr>\n",
              "      <th>2012-01-09</th>\n",
              "      <td>15.276786</td>\n",
              "      <td>15.048214</td>\n",
              "      <td>15.196429</td>\n",
              "      <td>15.061786</td>\n",
              "      <td>394024400.0</td>\n",
              "      <td>12.951672</td>\n",
              "    </tr>\n",
              "    <tr>\n",
              "      <th>...</th>\n",
              "      <td>...</td>\n",
              "      <td>...</td>\n",
              "      <td>...</td>\n",
              "      <td>...</td>\n",
              "      <td>...</td>\n",
              "      <td>...</td>\n",
              "    </tr>\n",
              "    <tr>\n",
              "      <th>2021-05-28</th>\n",
              "      <td>125.800003</td>\n",
              "      <td>124.550003</td>\n",
              "      <td>125.570000</td>\n",
              "      <td>124.610001</td>\n",
              "      <td>71311100.0</td>\n",
              "      <td>124.610001</td>\n",
              "    </tr>\n",
              "    <tr>\n",
              "      <th>2021-06-01</th>\n",
              "      <td>125.349998</td>\n",
              "      <td>123.940002</td>\n",
              "      <td>125.080002</td>\n",
              "      <td>124.279999</td>\n",
              "      <td>67637100.0</td>\n",
              "      <td>124.279999</td>\n",
              "    </tr>\n",
              "    <tr>\n",
              "      <th>2021-06-02</th>\n",
              "      <td>125.239998</td>\n",
              "      <td>124.050003</td>\n",
              "      <td>124.279999</td>\n",
              "      <td>125.059998</td>\n",
              "      <td>59278900.0</td>\n",
              "      <td>125.059998</td>\n",
              "    </tr>\n",
              "    <tr>\n",
              "      <th>2021-06-03</th>\n",
              "      <td>124.849998</td>\n",
              "      <td>123.129997</td>\n",
              "      <td>124.680000</td>\n",
              "      <td>123.540001</td>\n",
              "      <td>76229200.0</td>\n",
              "      <td>123.540001</td>\n",
              "    </tr>\n",
              "    <tr>\n",
              "      <th>2021-06-04</th>\n",
              "      <td>126.160004</td>\n",
              "      <td>123.849998</td>\n",
              "      <td>124.070000</td>\n",
              "      <td>125.889999</td>\n",
              "      <td>75087300.0</td>\n",
              "      <td>125.889999</td>\n",
              "    </tr>\n",
              "  </tbody>\n",
              "</table>\n",
              "<p>2371 rows × 6 columns</p>\n",
              "</div>"
            ],
            "text/plain": [
              "                  High         Low  ...       Volume   Adj Close\n",
              "Date                                ...                         \n",
              "2012-01-03   14.732143   14.607143  ...  302220800.0   12.629209\n",
              "2012-01-04   14.810000   14.617143  ...  260022000.0   12.697079\n",
              "2012-01-05   14.948214   14.738214  ...  271269600.0   12.838044\n",
              "2012-01-06   15.098214   14.972143  ...  318292800.0   12.972249\n",
              "2012-01-09   15.276786   15.048214  ...  394024400.0   12.951672\n",
              "...                ...         ...  ...          ...         ...\n",
              "2021-05-28  125.800003  124.550003  ...   71311100.0  124.610001\n",
              "2021-06-01  125.349998  123.940002  ...   67637100.0  124.279999\n",
              "2021-06-02  125.239998  124.050003  ...   59278900.0  125.059998\n",
              "2021-06-03  124.849998  123.129997  ...   76229200.0  123.540001\n",
              "2021-06-04  126.160004  123.849998  ...   75087300.0  125.889999\n",
              "\n",
              "[2371 rows x 6 columns]"
            ]
          },
          "metadata": {
            "tags": []
          },
          "execution_count": 3
        }
      ]
    },
    {
      "cell_type": "code",
      "metadata": {
        "colab": {
          "base_uri": "https://localhost:8080/"
        },
        "id": "zWp652MQdqJr",
        "outputId": "f95ff46d-2cf3-4aab-965f-82738fc5526a"
      },
      "source": [
        "df.shape"
      ],
      "execution_count": 4,
      "outputs": [
        {
          "output_type": "execute_result",
          "data": {
            "text/plain": [
              "(2371, 6)"
            ]
          },
          "metadata": {
            "tags": []
          },
          "execution_count": 4
        }
      ]
    },
    {
      "cell_type": "code",
      "metadata": {
        "colab": {
          "base_uri": "https://localhost:8080/",
          "height": 576
        },
        "id": "jIkb-rA_d64d",
        "outputId": "536aa8a2-bfa3-40d9-ca7d-4dc3cd744fb5"
      },
      "source": [
        "plt.figure(figsize=(12,8))\n",
        "plt.title(\"Close price history\")\n",
        "plt.plot(df['Close'])\n",
        "plt.xlabel('Date',fontsize=18)\n",
        "plt.ylabel('Close price USD($)',fontsize=18)"
      ],
      "execution_count": 5,
      "outputs": [
        {
          "output_type": "execute_result",
          "data": {
            "text/plain": [
              "Text(0, 0.5, 'Close price USD($)')"
            ]
          },
          "metadata": {
            "tags": []
          },
          "execution_count": 5
        },
        {
          "output_type": "display_data",
          "data": {
            "image/png": "[encoded data removed]",
            "text/plain": [
              "<Figure size 864x576 with 1 Axes>"
            ]
          },
          "metadata": {
            "tags": []
          }
        }
      ]
    },
    {
      "cell_type": "code",
      "metadata": {
        "colab": {
          "base_uri": "https://localhost:8080/"
        },
        "id": "aT-494MmeINj",
        "outputId": "00410508-7dff-4743-8be9-55a0682b9c83"
      },
      "source": [
        "# create a new data frame only for Close \n",
        "data=df.filter(['Close'])\n",
        "# convert data frame to numpy array\n",
        "dataset=data.values\n",
        "training_data_length=math.ceil(len(dataset)*0.8)\n",
        "training_data_length"
      ],
      "execution_count": 6,
      "outputs": [
        {
          "output_type": "execute_result",
          "data": {
            "text/plain": [
              "1897"
            ]
          },
          "metadata": {
            "tags": []
          },
          "execution_count": 6
        }
      ]
    },
    {
      "cell_type": "code",
      "metadata": {
        "colab": {
          "base_uri": "https://localhost:8080/"
        },
        "id": "z_jnuECpfu6b",
        "outputId": "7128d236-5636-4730-b518-89312eddf321"
      },
      "source": [
        "#Scale the date\n",
        "scaler=MinMaxScaler(feature_range=(0,1))\n",
        "scaler_data=scaler.fit_transform(dataset)\n",
        "scaler_data"
      ],
      "execution_count": 68,
      "outputs": [
        {
          "output_type": "execute_result",
          "data": {
            "text/plain": [
              "array([[0.00572147],\n",
              "       [0.00633231],\n",
              "       [0.00760099],\n",
              "       ...,\n",
              "       [0.85992063],\n",
              "       [0.84815709],\n",
              "       [0.86634417]])"
            ]
          },
          "metadata": {
            "tags": []
          },
          "execution_count": 68
        }
      ]
    },
    {
      "cell_type": "code",
      "metadata": {
        "id": "CBOB21-BfyfT"
      },
      "source": [
        "# creating trainig data set\n",
        "train_data=scaler_data[0:training_data_length,:]\n",
        "# split to x_train,y_train\n",
        "\n",
        "x_train=[]\n",
        "y_train=[]\n",
        "for i in range(60,len(train_data)):\n",
        "  x_train.append(train_data[i-60:i,0])\n",
        "  y_train.append(train_data[i,0])\n",
        " \n"
      ],
      "execution_count": 8,
      "outputs": []
    },
    {
      "cell_type": "code",
      "metadata": {
        "id": "gnBBtZPBjdYH"
      },
      "source": [
        "#convert x_train and y_train into nmpy aray\n",
        "x_train,y_train=np.array(x_train),np.array(y_train)"
      ],
      "execution_count": 15,
      "outputs": []
    },
    {
      "cell_type": "code",
      "metadata": {
        "id": "iDyboeNVzMVj",
        "colab": {
          "base_uri": "https://localhost:8080/"
        },
        "outputId": "7731499e-d762-465b-f8eb-7cd34861057d"
      },
      "source": [
        "# reshape the data \n",
        "x_train=np.reshape(x_train,(x_train.shape[0],x_train.shape[1],1))\n",
        "x_train.shape"
      ],
      "execution_count": 18,
      "outputs": [
        {
          "output_type": "execute_result",
          "data": {
            "text/plain": [
              "(1837, 60, 1)"
            ]
          },
          "metadata": {
            "tags": []
          },
          "execution_count": 18
        }
      ]
    },
    {
      "cell_type": "code",
      "metadata": {
        "id": "qRMTkl5K9iXa"
      },
      "source": [
        "# build the LSTM model\n",
        "model=Sequential()\n",
        "model.add(LSTM(50,return_sequences=True,input_shape=(x_train.shape[1],1)))\n",
        "model.add(LSTM(50,return_sequences=False))\n",
        "model.add(Dense(25))\n",
        "model.add(Dense(1))"
      ],
      "execution_count": 25,
      "outputs": []
    },
    {
      "cell_type": "code",
      "metadata": {
        "id": "zI0rPMKWCM18"
      },
      "source": [
        "# compile the model\n",
        "model.compile(optimizer='adam',loss='mean_squared_error')"
      ],
      "execution_count": 28,
      "outputs": []
    },
    {
      "cell_type": "code",
      "metadata": {
        "colab": {
          "base_uri": "https://localhost:8080/"
        },
        "id": "vTQd8eBVECKx",
        "outputId": "654a551d-3390-4fa4-dbc1-bc7e5f4f21f5"
      },
      "source": [
        "#train the model\n",
        "model.fit(x_train,y_train,batch_size=1,epochs=1)"
      ],
      "execution_count": 29,
      "outputs": [
        {
          "output_type": "stream",
          "text": [
            "1837/1837 [==============================] - 50s 23ms/step - loss: 5.4957e-04\n"
          ],
          "name": "stdout"
        },
        {
          "output_type": "execute_result",
          "data": {
            "text/plain": [
              "<keras.callbacks.History at 0x7fc18d233f10>"
            ]
          },
          "metadata": {
            "tags": []
          },
          "execution_count": 29
        }
      ]
    },
    {
      "cell_type": "code",
      "metadata": {
        "id": "zsM0ugnQEQF7"
      },
      "source": [
        "# creating testing data set\n",
        "test_data=scaler_data[training_data_length-60 :,:]\n",
        "# create x_test,y_test\n",
        "\n",
        "x_test=[]\n",
        "y_test=[]\n",
        "y_test=dataset[training_data_length :,:] ## isnot scaled ,it is normal values\n",
        "for i in range(60,len(test_data)):\n",
        "  x_test.append(test_data[i-60:i,0])\n",
        " "
      ],
      "execution_count": 32,
      "outputs": []
    },
    {
      "cell_type": "code",
      "metadata": {
        "id": "TCTQjHE1KWba"
      },
      "source": [
        "# conveert the data into the numpy array\n",
        "x_test=np.array(x_test)"
      ],
      "execution_count": 36,
      "outputs": []
    },
    {
      "cell_type": "code",
      "metadata": {
        "id": "zLDRumqwKXTU"
      },
      "source": [
        "#reshape the data since LSTM espect 3D data\n",
        "x_test=np.reshape(x_test,(x_test.shape[0],x_test.shape[1],1))  #number of time steps "
      ],
      "execution_count": 39,
      "outputs": []
    },
    {
      "cell_type": "code",
      "metadata": {
        "id": "3WZ4vdZIMTra"
      },
      "source": [
        "# get the model predicted price value \n",
        "predictions=model.predict(x_test)\n",
        "predictions=scaler.inverse_transform(predictions)"
      ],
      "execution_count": 44,
      "outputs": []
    },
    {
      "cell_type": "code",
      "metadata": {
        "colab": {
          "base_uri": "https://localhost:8080/"
        },
        "id": "FHa7bzIAMU9T",
        "outputId": "82abb857-c505-4b22-c507-c9bedc3f1ea1"
      },
      "source": [
        "# evalue the model ,get the root mean squared error(RMSE)\n",
        "rmse=np.sqrt(np.mean(predictions - y_test)**2)\n",
        "rmse"
      ],
      "execution_count": 47,
      "outputs": [
        {
          "output_type": "execute_result",
          "data": {
            "text/plain": [
              "7.758409958851488"
            ]
          },
          "metadata": {
            "tags": []
          },
          "execution_count": 47
        }
      ]
    },
    {
      "cell_type": "code",
      "metadata": {
        "colab": {
          "base_uri": "https://localhost:8080/",
          "height": 646
        },
        "id": "OzdsLIvxM_FH",
        "outputId": "e0228747-daeb-4501-b55c-e28d476e7129"
      },
      "source": [
        "# plot the results\n",
        "train=data[: training_data_length]\n",
        "valid=data[training_data_length :]\n",
        "valid['Prediction']=predictions\n",
        "plt.figure(figsize=(14,8))\n",
        "plt.title('model')\n",
        "plt.plot(train['Close'])\n",
        "plt.plot(valid[['Close','Prediction']])\n",
        "plt.legend(['train','Validation','Prediction'],loc='lower right')\n",
        "plt.show()\n"
      ],
      "execution_count": 64,
      "outputs": [
        {
          "output_type": "stream",
          "text": [
            "/usr/local/lib/python3.7/dist-packages/ipykernel_launcher.py:4: SettingWithCopyWarning: \n",
            "A value is trying to be set on a copy of a slice from a DataFrame.\n",
            "Try using .loc[row_indexer,col_indexer] = value instead\n",
            "\n",
            "See the caveats in the documentation: https://pandas.pydata.org/pandas-docs/stable/user_guide/indexing.html#returning-a-view-versus-a-copy\n",
            "  after removing the cwd from sys.path.\n"
          ],
          "name": "stderr"
        },
        {
          "output_type": "display_data",
          "data": {
            "image/png": "[encoded data removed]",
            "text/plain": [
              "<Figure size 1008x576 with 1 Axes>"
            ]
          },
          "metadata": {
            "tags": []
          }
        }
      ]
    },
    {
      "cell_type": "code",
      "metadata": {
        "colab": {
          "base_uri": "https://localhost:8080/",
          "height": 455
        },
        "id": "eHoDioyyQPGm",
        "outputId": "85b38979-cab7-46b7-a4e9-0c1675421a2f"
      },
      "source": [
        "# show the valid and prediction price \n",
        "valid"
      ],
      "execution_count": 65,
      "outputs": [
        {
          "output_type": "execute_result",
          "data": {
            "text/html": [
              "<div>\n",
              "<style scoped>\n",
              "    .dataframe tbody tr th:only-of-type {\n",
              "        vertical-align: middle;\n",
              "    }\n",
              "\n",
              "    .dataframe tbody tr th {\n",
              "        vertical-align: top;\n",
              "    }\n",
              "\n",
              "    .dataframe thead th {\n",
              "        text-align: right;\n",
              "    }\n",
              "</style>\n",
              "<table border=\"1\" class=\"dataframe\">\n",
              "  <thead>\n",
              "    <tr style=\"text-align: right;\">\n",
              "      <th></th>\n",
              "      <th>Close</th>\n",
              "      <th>Prediction</th>\n",
              "    </tr>\n",
              "    <tr>\n",
              "      <th>Date</th>\n",
              "      <th></th>\n",
              "      <th></th>\n",
              "    </tr>\n",
              "  </thead>\n",
              "  <tbody>\n",
              "    <tr>\n",
              "      <th>2019-07-19</th>\n",
              "      <td>50.647499</td>\n",
              "      <td>49.866722</td>\n",
              "    </tr>\n",
              "    <tr>\n",
              "      <th>2019-07-22</th>\n",
              "      <td>51.805000</td>\n",
              "      <td>49.880959</td>\n",
              "    </tr>\n",
              "    <tr>\n",
              "      <th>2019-07-23</th>\n",
              "      <td>52.209999</td>\n",
              "      <td>49.980793</td>\n",
              "    </tr>\n",
              "    <tr>\n",
              "      <th>2019-07-24</th>\n",
              "      <td>52.167500</td>\n",
              "      <td>50.155235</td>\n",
              "    </tr>\n",
              "    <tr>\n",
              "      <th>2019-07-25</th>\n",
              "      <td>51.755001</td>\n",
              "      <td>50.344116</td>\n",
              "    </tr>\n",
              "    <tr>\n",
              "      <th>...</th>\n",
              "      <td>...</td>\n",
              "      <td>...</td>\n",
              "    </tr>\n",
              "    <tr>\n",
              "      <th>2021-05-28</th>\n",
              "      <td>124.610001</td>\n",
              "      <td>113.193466</td>\n",
              "    </tr>\n",
              "    <tr>\n",
              "      <th>2021-06-01</th>\n",
              "      <td>124.279999</td>\n",
              "      <td>113.030518</td>\n",
              "    </tr>\n",
              "    <tr>\n",
              "      <th>2021-06-02</th>\n",
              "      <td>125.059998</td>\n",
              "      <td>112.777809</td>\n",
              "    </tr>\n",
              "    <tr>\n",
              "      <th>2021-06-03</th>\n",
              "      <td>123.540001</td>\n",
              "      <td>112.597511</td>\n",
              "    </tr>\n",
              "    <tr>\n",
              "      <th>2021-06-04</th>\n",
              "      <td>125.889999</td>\n",
              "      <td>112.302666</td>\n",
              "    </tr>\n",
              "  </tbody>\n",
              "</table>\n",
              "<p>474 rows × 2 columns</p>\n",
              "</div>"
            ],
            "text/plain": [
              "                 Close  Prediction\n",
              "Date                              \n",
              "2019-07-19   50.647499   49.866722\n",
              "2019-07-22   51.805000   49.880959\n",
              "2019-07-23   52.209999   49.980793\n",
              "2019-07-24   52.167500   50.155235\n",
              "2019-07-25   51.755001   50.344116\n",
              "...                ...         ...\n",
              "2021-05-28  124.610001  113.193466\n",
              "2021-06-01  124.279999  113.030518\n",
              "2021-06-02  125.059998  112.777809\n",
              "2021-06-03  123.540001  112.597511\n",
              "2021-06-04  125.889999  112.302666\n",
              "\n",
              "[474 rows x 2 columns]"
            ]
          },
          "metadata": {
            "tags": []
          },
          "execution_count": 65
        }
      ]
    },
    {
      "cell_type": "code",
      "metadata": {
        "colab": {
          "base_uri": "https://localhost:8080/"
        },
        "id": "NwqqGm6LQPrE",
        "outputId": "1e7016c5-3be1-445f-bc5d-584e49aec65d"
      },
      "source": [
        "#get the quote \n",
        "apple_quote=web.DataReader('AAPL',data_source='yahoo',start='2012-01-02',end='2021-06-06')\n",
        "# create new dataframe\n",
        "new_df=apple_quote.filter(['Close'])\n",
        "#get the last 60 day closing price and convert data frame into an array\n",
        "last_60_days=new_df[-60 :].values\n",
        "#scaled the data between 0,1\n",
        "last_60_days_scaled=scaler.transform(last_60_days)\n",
        "# create an empty list\n",
        "X_test=[]\n",
        "X_test.append(last_60_days_scaled)\n",
        "X_test=np.array(X_test)\n",
        "X_test=np.reshape(X_test,(X_test.shape[0],X_test.shape[1],1))\n",
        "pre_price=model.predict(X_test)\n",
        "pred_price=scaler.inverse_transform(pre_price)\n",
        "print(pred_price)\n"
      ],
      "execution_count": 73,
      "outputs": [
        {
          "output_type": "stream",
          "text": [
            "[[112.256256]]\n"
          ],
          "name": "stdout"
        }
      ]
    },
    {
      "cell_type": "code",
      "metadata": {
        "colab": {
          "base_uri": "https://localhost:8080/"
        },
        "id": "OOi6Dv4TWQl1",
        "outputId": "f91b34d4-d01d-4cc8-cd4e-f8260ce63a76"
      },
      "source": [
        "apple_quote2=web.DataReader('AAPL',data_source='yahoo',start='2021-06-07',end='2021-06-07')\n",
        "print(apple_quote2['Close'])\n"
      ],
      "execution_count": 76,
      "outputs": [
        {
          "output_type": "stream",
          "text": [
            "Date\n",
            "2021-06-07    125.385002\n",
            "Name: Close, dtype: float64\n"
          ],
          "name": "stdout"
        }
      ]
    },
    {
      "cell_type": "code",
      "metadata": {
        "id": "2mHSsNh8Y2to"
      },
      "source": [
        "apple_quote=web.DataReader('AAPL',data_source='yahoo',start='2012-01-02',end='2021-06-06')\n"
      ],
      "execution_count": null,
      "outputs": []
    }
  ]
}